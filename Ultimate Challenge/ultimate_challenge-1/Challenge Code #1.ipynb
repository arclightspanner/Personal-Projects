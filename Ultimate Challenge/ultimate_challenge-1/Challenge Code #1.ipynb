{
 "cells": [
  {
   "cell_type": "markdown",
   "metadata": {},
   "source": [
    "## Part 1 - Exploratory Data Analysis"
   ]
  },
  {
   "cell_type": "code",
   "execution_count": 1,
   "metadata": {},
   "outputs": [
    {
     "name": "stdout",
     "output_type": "stream",
     "text": [
      "dict_keys(['login_time'])\n"
     ]
    }
   ],
   "source": [
    "# load json file\n",
    "import json\n",
    "with open('logins.json') as l:\n",
    "  data = json.load(l)\n",
    "\n",
    "# print out keys\n",
    "print(data.keys())"
   ]
  },
  {
   "cell_type": "code",
   "execution_count": 2,
   "metadata": {},
   "outputs": [
    {
     "data": {
      "text/html": [
       "<div>\n",
       "<style scoped>\n",
       "    .dataframe tbody tr th:only-of-type {\n",
       "        vertical-align: middle;\n",
       "    }\n",
       "\n",
       "    .dataframe tbody tr th {\n",
       "        vertical-align: top;\n",
       "    }\n",
       "\n",
       "    .dataframe thead th {\n",
       "        text-align: right;\n",
       "    }\n",
       "</style>\n",
       "<table border=\"1\" class=\"dataframe\">\n",
       "  <thead>\n",
       "    <tr style=\"text-align: right;\">\n",
       "      <th></th>\n",
       "      <th>login_time</th>\n",
       "    </tr>\n",
       "  </thead>\n",
       "  <tbody>\n",
       "    <tr>\n",
       "      <th>0</th>\n",
       "      <td>1970-01-01 20:13:18</td>\n",
       "    </tr>\n",
       "    <tr>\n",
       "      <th>1</th>\n",
       "      <td>1970-01-01 20:16:10</td>\n",
       "    </tr>\n",
       "    <tr>\n",
       "      <th>2</th>\n",
       "      <td>1970-01-01 20:16:37</td>\n",
       "    </tr>\n",
       "    <tr>\n",
       "      <th>3</th>\n",
       "      <td>1970-01-01 20:16:36</td>\n",
       "    </tr>\n",
       "    <tr>\n",
       "      <th>4</th>\n",
       "      <td>1970-01-01 20:26:21</td>\n",
       "    </tr>\n",
       "  </tbody>\n",
       "</table>\n",
       "</div>"
      ],
      "text/plain": [
       "            login_time\n",
       "0  1970-01-01 20:13:18\n",
       "1  1970-01-01 20:16:10\n",
       "2  1970-01-01 20:16:37\n",
       "3  1970-01-01 20:16:36\n",
       "4  1970-01-01 20:26:21"
      ]
     },
     "execution_count": 2,
     "metadata": {},
     "output_type": "execute_result"
    }
   ],
   "source": [
    "# only dictionary key is login time\n",
    "# convert it to one column dataframe\n",
    "import pandas as pd\n",
    "df = pd.DataFrame(data)\n",
    "df.head()"
   ]
  },
  {
   "cell_type": "code",
   "execution_count": 3,
   "metadata": {},
   "outputs": [
    {
     "name": "stdout",
     "output_type": "stream",
     "text": [
      "<class 'pandas.core.frame.DataFrame'>\n",
      "RangeIndex: 93142 entries, 0 to 93141\n",
      "Data columns (total 1 columns):\n",
      "login_time    93142 non-null object\n",
      "dtypes: object(1)\n",
      "memory usage: 727.8+ KB\n"
     ]
    }
   ],
   "source": [
    "df.info()"
   ]
  },
  {
   "cell_type": "code",
   "execution_count": 4,
   "metadata": {
    "scrolled": true
   },
   "outputs": [
    {
     "data": {
      "text/html": [
       "<div>\n",
       "<style scoped>\n",
       "    .dataframe tbody tr th:only-of-type {\n",
       "        vertical-align: middle;\n",
       "    }\n",
       "\n",
       "    .dataframe tbody tr th {\n",
       "        vertical-align: top;\n",
       "    }\n",
       "\n",
       "    .dataframe thead th {\n",
       "        text-align: right;\n",
       "    }\n",
       "</style>\n",
       "<table border=\"1\" class=\"dataframe\">\n",
       "  <thead>\n",
       "    <tr style=\"text-align: right;\">\n",
       "      <th></th>\n",
       "      <th>time</th>\n",
       "    </tr>\n",
       "  </thead>\n",
       "  <tbody>\n",
       "    <tr>\n",
       "      <th>0</th>\n",
       "      <td>1970-01-01 20:13:18</td>\n",
       "    </tr>\n",
       "    <tr>\n",
       "      <th>1</th>\n",
       "      <td>1970-01-01 20:16:10</td>\n",
       "    </tr>\n",
       "    <tr>\n",
       "      <th>2</th>\n",
       "      <td>1970-01-01 20:16:37</td>\n",
       "    </tr>\n",
       "    <tr>\n",
       "      <th>3</th>\n",
       "      <td>1970-01-01 20:16:36</td>\n",
       "    </tr>\n",
       "    <tr>\n",
       "      <th>4</th>\n",
       "      <td>1970-01-01 20:26:21</td>\n",
       "    </tr>\n",
       "  </tbody>\n",
       "</table>\n",
       "</div>"
      ],
      "text/plain": [
       "                 time\n",
       "0 1970-01-01 20:13:18\n",
       "1 1970-01-01 20:16:10\n",
       "2 1970-01-01 20:16:37\n",
       "3 1970-01-01 20:16:36\n",
       "4 1970-01-01 20:26:21"
      ]
     },
     "execution_count": 4,
     "metadata": {},
     "output_type": "execute_result"
    }
   ],
   "source": [
    "# no missing data exists \n",
    "# convert string to datetime\n",
    "import datetime as dt\n",
    "\n",
    "df = df.apply(lambda row: dt.datetime.strptime(row['login_time'], '%Y-%m-%d %H:%M:%S'), axis = 1)\n",
    "df = pd.DataFrame(df, columns = ['time'])\n",
    "df.head()"
   ]
  },
  {
   "cell_type": "code",
   "execution_count": 5,
   "metadata": {},
   "outputs": [
    {
     "data": {
      "text/html": [
       "<div>\n",
       "<style scoped>\n",
       "    .dataframe tbody tr th:only-of-type {\n",
       "        vertical-align: middle;\n",
       "    }\n",
       "\n",
       "    .dataframe tbody tr th {\n",
       "        vertical-align: top;\n",
       "    }\n",
       "\n",
       "    .dataframe thead th {\n",
       "        text-align: right;\n",
       "    }\n",
       "</style>\n",
       "<table border=\"1\" class=\"dataframe\">\n",
       "  <thead>\n",
       "    <tr style=\"text-align: right;\">\n",
       "      <th></th>\n",
       "      <th>time</th>\n",
       "      <th>count</th>\n",
       "    </tr>\n",
       "  </thead>\n",
       "  <tbody>\n",
       "    <tr>\n",
       "      <th>0</th>\n",
       "      <td>1970-01-01 20:00:00</td>\n",
       "      <td>2</td>\n",
       "    </tr>\n",
       "    <tr>\n",
       "      <th>1</th>\n",
       "      <td>1970-01-01 20:15:00</td>\n",
       "      <td>6</td>\n",
       "    </tr>\n",
       "    <tr>\n",
       "      <th>2</th>\n",
       "      <td>1970-01-01 20:30:00</td>\n",
       "      <td>9</td>\n",
       "    </tr>\n",
       "    <tr>\n",
       "      <th>3</th>\n",
       "      <td>1970-01-01 20:45:00</td>\n",
       "      <td>7</td>\n",
       "    </tr>\n",
       "    <tr>\n",
       "      <th>4</th>\n",
       "      <td>1970-01-01 21:00:00</td>\n",
       "      <td>1</td>\n",
       "    </tr>\n",
       "  </tbody>\n",
       "</table>\n",
       "</div>"
      ],
      "text/plain": [
       "                 time  count\n",
       "0 1970-01-01 20:00:00      2\n",
       "1 1970-01-01 20:15:00      6\n",
       "2 1970-01-01 20:30:00      9\n",
       "3 1970-01-01 20:45:00      7\n",
       "4 1970-01-01 21:00:00      1"
      ]
     },
     "execution_count": 5,
     "metadata": {},
     "output_type": "execute_result"
    }
   ],
   "source": [
    "# create a temp column with 1 counts of all times and aggregate by 15 minutes\n",
    "df1 = df.copy()\n",
    "df1['count'] = 1\n",
    "df1.set_index('time', inplace=True)\n",
    "df1 = df1.resample('15Min').count()\n",
    "df1 = df1.reset_index()\n",
    "df1.head()"
   ]
  },
  {
   "cell_type": "code",
   "execution_count": 6,
   "metadata": {},
   "outputs": [
    {
     "data": {
      "image/png": "[encoded data removed]",
      "text/plain": [
       "<Figure size 1080x432 with 1 Axes>"
      ]
     },
     "metadata": {
      "needs_background": "light"
     },
     "output_type": "display_data"
    }
   ],
   "source": [
    "from pandas.plotting import register_matplotlib_converters\n",
    "register_matplotlib_converters()\n",
    "%matplotlib inline\n",
    "\n",
    "# import seaborn and matplotlib, display plot\n",
    "import seaborn as sns\n",
    "import matplotlib.pyplot as plt\n",
    "plt.figure(figsize=(15,6))\n",
    "sns.set(style=\"darkgrid\")\n",
    "sns.lineplot(x=\"time\", y=\"count\",\n",
    "             data=df1)\n",
    "plt.show()"
   ]
  },
  {
   "cell_type": "code",
   "execution_count": 7,
   "metadata": {
    "scrolled": true
   },
   "outputs": [
    {
     "data": {
      "image/png": "[encoded data removed]",
      "text/plain": [
       "<Figure size 1080x432 with 1 Axes>"
      ]
     },
     "metadata": {
      "needs_background": "light"
     },
     "output_type": "display_data"
    }
   ],
   "source": [
    "df2 = df.copy()\n",
    "df2['count'] = 1\n",
    "# to gain more insight, resample by 7 day intervals and replot seaborn figure\n",
    "df2.set_index('time', inplace=True)\n",
    "df2 = df2.resample('7D').count()\n",
    "df2 = df2.reset_index()\n",
    "plt.figure(figsize=(15,6))\n",
    "sns.set(style=\"darkgrid\")\n",
    "sns.lineplot(x=\"time\", y=\"count\",\n",
    "             data=df2,color=\"coral\")\n",
    "plt.show()"
   ]
  },
  {
   "cell_type": "code",
   "execution_count": 8,
   "metadata": {},
   "outputs": [
    {
     "data": {
      "text/html": [
       "<div>\n",
       "<style scoped>\n",
       "    .dataframe tbody tr th:only-of-type {\n",
       "        vertical-align: middle;\n",
       "    }\n",
       "\n",
       "    .dataframe tbody tr th {\n",
       "        vertical-align: top;\n",
       "    }\n",
       "\n",
       "    .dataframe thead th {\n",
       "        text-align: right;\n",
       "    }\n",
       "</style>\n",
       "<table border=\"1\" class=\"dataframe\">\n",
       "  <thead>\n",
       "    <tr style=\"text-align: right;\">\n",
       "      <th></th>\n",
       "      <th>time</th>\n",
       "      <th>count</th>\n",
       "      <th>hour</th>\n",
       "    </tr>\n",
       "  </thead>\n",
       "  <tbody>\n",
       "    <tr>\n",
       "      <th>0</th>\n",
       "      <td>1970-01-01 20:00:00</td>\n",
       "      <td>24</td>\n",
       "      <td>20</td>\n",
       "    </tr>\n",
       "    <tr>\n",
       "      <th>1</th>\n",
       "      <td>1970-01-01 21:00:00</td>\n",
       "      <td>9</td>\n",
       "      <td>21</td>\n",
       "    </tr>\n",
       "    <tr>\n",
       "      <th>2</th>\n",
       "      <td>1970-01-01 22:00:00</td>\n",
       "      <td>21</td>\n",
       "      <td>22</td>\n",
       "    </tr>\n",
       "    <tr>\n",
       "      <th>3</th>\n",
       "      <td>1970-01-01 23:00:00</td>\n",
       "      <td>58</td>\n",
       "      <td>23</td>\n",
       "    </tr>\n",
       "    <tr>\n",
       "      <th>4</th>\n",
       "      <td>1970-01-02 00:00:00</td>\n",
       "      <td>53</td>\n",
       "      <td>0</td>\n",
       "    </tr>\n",
       "  </tbody>\n",
       "</table>\n",
       "</div>"
      ],
      "text/plain": [
       "                 time  count  hour\n",
       "0 1970-01-01 20:00:00     24    20\n",
       "1 1970-01-01 21:00:00      9    21\n",
       "2 1970-01-01 22:00:00     21    22\n",
       "3 1970-01-01 23:00:00     58    23\n",
       "4 1970-01-02 00:00:00     53     0"
      ]
     },
     "execution_count": 8,
     "metadata": {},
     "output_type": "execute_result"
    }
   ],
   "source": [
    "df3 = df.copy()\n",
    "df3['count'] = 1\n",
    "df3.set_index('time', inplace=True)\n",
    "df3 = df3.resample('H').count()\n",
    "df3 = df3.reset_index()\n",
    "df3[\"hour\"] = [t.hour for t in pd.to_datetime(df3.time)]\n",
    "df3.head()"
   ]
  },
  {
   "cell_type": "code",
   "execution_count": 10,
   "metadata": {},
   "outputs": [
    {
     "data": {
      "text/html": [
       "<div>\n",
       "<style scoped>\n",
       "    .dataframe tbody tr th:only-of-type {\n",
       "        vertical-align: middle;\n",
       "    }\n",
       "\n",
       "    .dataframe tbody tr th {\n",
       "        vertical-align: top;\n",
       "    }\n",
       "\n",
       "    .dataframe thead th {\n",
       "        text-align: right;\n",
       "    }\n",
       "</style>\n",
       "<table border=\"1\" class=\"dataframe\">\n",
       "  <thead>\n",
       "    <tr style=\"text-align: right;\">\n",
       "      <th></th>\n",
       "      <th>hour</th>\n",
       "      <th>count</th>\n",
       "    </tr>\n",
       "  </thead>\n",
       "  <tbody>\n",
       "    <tr>\n",
       "      <th>0</th>\n",
       "      <td>0</td>\n",
       "      <td>5993</td>\n",
       "    </tr>\n",
       "    <tr>\n",
       "      <th>1</th>\n",
       "      <td>1</td>\n",
       "      <td>6317</td>\n",
       "    </tr>\n",
       "    <tr>\n",
       "      <th>2</th>\n",
       "      <td>2</td>\n",
       "      <td>5800</td>\n",
       "    </tr>\n",
       "    <tr>\n",
       "      <th>3</th>\n",
       "      <td>3</td>\n",
       "      <td>4831</td>\n",
       "    </tr>\n",
       "    <tr>\n",
       "      <th>4</th>\n",
       "      <td>4</td>\n",
       "      <td>5034</td>\n",
       "    </tr>\n",
       "  </tbody>\n",
       "</table>\n",
       "</div>"
      ],
      "text/plain": [
       "   hour  count\n",
       "0     0   5993\n",
       "1     1   6317\n",
       "2     2   5800\n",
       "3     3   4831\n",
       "4     4   5034"
      ]
     },
     "execution_count": 10,
     "metadata": {},
     "output_type": "execute_result"
    }
   ],
   "source": [
    "df3_bar = df3.groupby(['hour'])['count'].sum().reset_index()\n",
    "df3_bar.head()"
   ]
  },
  {
   "cell_type": "code",
   "execution_count": 11,
   "metadata": {},
   "outputs": [
    {
     "data": {
      "text/plain": [
       "<matplotlib.axes._subplots.AxesSubplot at 0x26e511adb48>"
      ]
     },
     "execution_count": 11,
     "metadata": {},
     "output_type": "execute_result"
    },
    {
     "data": {
      "image/png": "[encoded data removed]",
      "text/plain": [
       "<Figure size 1080x432 with 1 Axes>"
      ]
     },
     "metadata": {},
     "output_type": "display_data"
    }
   ],
   "source": [
    "plt.figure(figsize=(15,6))\n",
    "sns.barplot(x=\"hour\", y=\"count\", data=df3_bar, palette = \"Blues_d\")"
   ]
  },
  {
   "cell_type": "code",
   "execution_count": 12,
   "metadata": {},
   "outputs": [],
   "source": [
    "def dow(date):\n",
    "    days=[\"Monday\",\"Tuesday\",\"Wednesday\",\"Thursday\",\"Friday\",\"Saturday\",\"Sunday\"]\n",
    "    dayNumber=date.weekday()\n",
    "    return(days[dayNumber])"
   ]
  },
  {
   "cell_type": "code",
   "execution_count": 13,
   "metadata": {},
   "outputs": [],
   "source": [
    "df1['dow'] = df1.apply(lambda row: dow(row['time']), axis = 1)"
   ]
  },
  {
   "cell_type": "code",
   "execution_count": 14,
   "metadata": {},
   "outputs": [
    {
     "data": {
      "text/html": [
       "<div>\n",
       "<style scoped>\n",
       "    .dataframe tbody tr th:only-of-type {\n",
       "        vertical-align: middle;\n",
       "    }\n",
       "\n",
       "    .dataframe tbody tr th {\n",
       "        vertical-align: top;\n",
       "    }\n",
       "\n",
       "    .dataframe thead th {\n",
       "        text-align: right;\n",
       "    }\n",
       "</style>\n",
       "<table border=\"1\" class=\"dataframe\">\n",
       "  <thead>\n",
       "    <tr style=\"text-align: right;\">\n",
       "      <th></th>\n",
       "      <th>dow</th>\n",
       "      <th>count</th>\n",
       "    </tr>\n",
       "  </thead>\n",
       "  <tbody>\n",
       "    <tr>\n",
       "      <th>0</th>\n",
       "      <td>Friday</td>\n",
       "      <td>15208</td>\n",
       "    </tr>\n",
       "    <tr>\n",
       "      <th>1</th>\n",
       "      <td>Monday</td>\n",
       "      <td>8823</td>\n",
       "    </tr>\n",
       "    <tr>\n",
       "      <th>2</th>\n",
       "      <td>Saturday</td>\n",
       "      <td>19377</td>\n",
       "    </tr>\n",
       "    <tr>\n",
       "      <th>3</th>\n",
       "      <td>Sunday</td>\n",
       "      <td>18167</td>\n",
       "    </tr>\n",
       "    <tr>\n",
       "      <th>4</th>\n",
       "      <td>Thursday</td>\n",
       "      <td>11960</td>\n",
       "    </tr>\n",
       "    <tr>\n",
       "      <th>5</th>\n",
       "      <td>Tuesday</td>\n",
       "      <td>9268</td>\n",
       "    </tr>\n",
       "    <tr>\n",
       "      <th>6</th>\n",
       "      <td>Wednesday</td>\n",
       "      <td>10339</td>\n",
       "    </tr>\n",
       "  </tbody>\n",
       "</table>\n",
       "</div>"
      ],
      "text/plain": [
       "         dow  count\n",
       "0     Friday  15208\n",
       "1     Monday   8823\n",
       "2   Saturday  19377\n",
       "3     Sunday  18167\n",
       "4   Thursday  11960\n",
       "5    Tuesday   9268\n",
       "6  Wednesday  10339"
      ]
     },
     "execution_count": 14,
     "metadata": {},
     "output_type": "execute_result"
    }
   ],
   "source": [
    "df_dow = df1.groupby(['dow'])['count'].sum().reset_index()\n",
    "df_dow"
   ]
  },
  {
   "cell_type": "code",
   "execution_count": 15,
   "metadata": {},
   "outputs": [
    {
     "data": {
      "text/plain": [
       "<matplotlib.axes._subplots.AxesSubplot at 0x26e400c3bc8>"
      ]
     },
     "execution_count": 15,
     "metadata": {},
     "output_type": "execute_result"
    },
    {
     "data": {
      "image/png": "[encoded data removed]",
      "text/plain": [
       "<Figure size 1080x432 with 1 Axes>"
      ]
     },
     "metadata": {},
     "output_type": "display_data"
    }
   ],
   "source": [
    "plt.figure(figsize=(15,6))\n",
    "sns.barplot(x=\"dow\", y=\"count\", data=df_dow)"
   ]
  },
  {
   "cell_type": "markdown",
   "metadata": {},
   "source": [
    "## Conclusion\n",
    "1. User logins have been increasing since Jan. \n",
    "\n",
    "2. Logins usually happen around midnight and noon.\n",
    "\n",
    "3. Most users login during Friday, Saturday and Sunday. "
   ]
  },
  {
   "cell_type": "markdown",
   "metadata": {},
   "source": [
    "## Part 2 - Experiment and Metric Designs\n",
    "\n",
    "The Ultimate managers of city operations for the Gotham and Metropolis have proposed an experiment to encourage \n",
    "driver partners to be available in both cities, by reimbursing all toll costs.\n",
    "\n",
    "1. What would you choose as the key measure of success of this experiment in encouraging driver partners to serve both cities, and why would you choose this metric?\n",
    "\n",
    "2. Describe a practical experiment you would design to compare the effectiveness of the proposed change in relation to the key measure of success. Please provide details on:\n",
    "\n",
    "a. how you will implement the experiment\n",
    "\n",
    "b. what statistical test(s) you will conduct to verify the significance of the\n",
    "observation\n",
    "\n",
    "c. how you would interpret the results and provide recommendations to the city\n",
    "operations team along with any caveats."
   ]
  },
  {
   "cell_type": "markdown",
   "metadata": {},
   "source": [
    "##### Answer #1\n",
    "Assuming that both Metropolis and Gotham shares a system similar to EZ Pass of the Northeastern US, the **primary metric** to choose would be \"count of toll charges by license plate zip code\". Normally a license plate would be tied to a driver and that driver would have a resident that's linked to a zip code, using that zip code we can identify where the driver starts out from and see how frequently the driver is charged by the toll. **Secondary metrics** we could look at are toll timestamp, toll amount, reimbursement amount, these metrics can help us predict what additional incentives should be used to encourage traveling between cities, such as lower toll amounts during a certain time of day."
   ]
  },
  {
   "cell_type": "markdown",
   "metadata": {},
   "source": [
    "##### Answer #2 (a,b)\n",
    "\n",
    "To measure the effectiveness of the toll incentive, we would sample the data and split it into two groups. One group contains the users who had incentive and the other group contains users who did not have incentive. The null hypothesis would be written as there is no difference for toll crossings between users that had reimbursement incentives and users that did not have reimbursement incentives. We can then use a z-test to reject or accept the hypothesis.\n",
    "\n",
    "A few things to consider are: we need to make sure enough people sign up for the incentive in order for the test to work; at 95% confidence, we have 1 in 20 chance of being wrong for the given metric; in the unlikely event that the sample size collected were too small, we can try bootstrapping. "
   ]
  },
  {
   "cell_type": "markdown",
   "metadata": {},
   "source": [
    "##### Answer #2 (c)\n",
    "\n",
    "Using the test, we can see whether or not the incentive works. If it works, we can then move on to A/B testing and run a series of tests to see how much the incentives works by increasing or decreasing the amount. Using the test we can narrow down the range as to what incentive is the most effective in encouraging toll passes between the two cities."
   ]
  },
  {
   "cell_type": "markdown",
   "metadata": {},
   "source": [
    "## Part 3 ‑ Predictive modeling"
   ]
  },
  {
   "cell_type": "code",
   "execution_count": 27,
   "metadata": {},
   "outputs": [
    {
     "name": "stdout",
     "output_type": "stream",
     "text": [
      "[{'city': \"King's Landing\", 'trips_in_first_30_days': 4, 'signup_date': '2014-01-25', 'avg_rating_of_driver': 4.7, 'avg_surge': 1.1, 'last_trip_date': '2014-06-17', 'phone': 'iPhone', 'surge_pct': 15.4, 'ultimate_black_user': True, 'weekday_pct': 46.2, 'avg_dist': 3.67, 'avg_rating_by_driver': 5.0}, {'city': 'Astapor', 'trips_in_first_30_days': 0, 'signup_date': '2014-01-29', 'avg_rating_of_driver': 5.0, 'avg_surge': 1.0, 'last_trip_date': '2014-05-05', 'phone': 'Android', 'surge_pct': 0.0, 'ultimate_black_user': False, 'weekday_pct': 50.0, 'avg_dist': 8.26, 'avg_rating_by_driver': 5.0}, {'city': 'Astapor', 'trips_in_first_30_days': 3, 'signup_date': '2014-01-06', 'avg_rating_of_driver': 4.3, 'avg_surge': 1.0, 'last_trip_date': '2014-01-07', 'phone': 'iPhone', 'surge_pct': 0.0, 'ultimate_black_user': False, 'weekday_pct': 100.0, 'avg_dist': 0.77, 'avg_rating_by_driver': 5.0}]\n"
     ]
    }
   ],
   "source": [
    "# load json file\n",
    "with open('ultimate_data_challenge.json') as l:\n",
    "  data = json.load(l)\n",
    "\n",
    "# print out first 5 entries\n",
    "print(data[:3])"
   ]
  },
  {
   "cell_type": "code",
   "execution_count": 28,
   "metadata": {},
   "outputs": [
    {
     "data": {
      "text/html": [
       "<div>\n",
       "<style scoped>\n",
       "    .dataframe tbody tr th:only-of-type {\n",
       "        vertical-align: middle;\n",
       "    }\n",
       "\n",
       "    .dataframe tbody tr th {\n",
       "        vertical-align: top;\n",
       "    }\n",
       "\n",
       "    .dataframe thead th {\n",
       "        text-align: right;\n",
       "    }\n",
       "</style>\n",
       "<table border=\"1\" class=\"dataframe\">\n",
       "  <thead>\n",
       "    <tr style=\"text-align: right;\">\n",
       "      <th></th>\n",
       "      <th>city</th>\n",
       "      <th>trips_in_first_30_days</th>\n",
       "      <th>signup_date</th>\n",
       "      <th>avg_rating_of_driver</th>\n",
       "      <th>avg_surge</th>\n",
       "      <th>last_trip_date</th>\n",
       "      <th>phone</th>\n",
       "      <th>surge_pct</th>\n",
       "      <th>ultimate_black_user</th>\n",
       "      <th>weekday_pct</th>\n",
       "      <th>avg_dist</th>\n",
       "      <th>avg_rating_by_driver</th>\n",
       "    </tr>\n",
       "  </thead>\n",
       "  <tbody>\n",
       "    <tr>\n",
       "      <th>0</th>\n",
       "      <td>King's Landing</td>\n",
       "      <td>4</td>\n",
       "      <td>2014-01-25</td>\n",
       "      <td>4.7</td>\n",
       "      <td>1.10</td>\n",
       "      <td>2014-06-17</td>\n",
       "      <td>iPhone</td>\n",
       "      <td>15.4</td>\n",
       "      <td>True</td>\n",
       "      <td>46.2</td>\n",
       "      <td>3.67</td>\n",
       "      <td>5.0</td>\n",
       "    </tr>\n",
       "    <tr>\n",
       "      <th>1</th>\n",
       "      <td>Astapor</td>\n",
       "      <td>0</td>\n",
       "      <td>2014-01-29</td>\n",
       "      <td>5.0</td>\n",
       "      <td>1.00</td>\n",
       "      <td>2014-05-05</td>\n",
       "      <td>Android</td>\n",
       "      <td>0.0</td>\n",
       "      <td>False</td>\n",
       "      <td>50.0</td>\n",
       "      <td>8.26</td>\n",
       "      <td>5.0</td>\n",
       "    </tr>\n",
       "    <tr>\n",
       "      <th>2</th>\n",
       "      <td>Astapor</td>\n",
       "      <td>3</td>\n",
       "      <td>2014-01-06</td>\n",
       "      <td>4.3</td>\n",
       "      <td>1.00</td>\n",
       "      <td>2014-01-07</td>\n",
       "      <td>iPhone</td>\n",
       "      <td>0.0</td>\n",
       "      <td>False</td>\n",
       "      <td>100.0</td>\n",
       "      <td>0.77</td>\n",
       "      <td>5.0</td>\n",
       "    </tr>\n",
       "    <tr>\n",
       "      <th>3</th>\n",
       "      <td>King's Landing</td>\n",
       "      <td>9</td>\n",
       "      <td>2014-01-10</td>\n",
       "      <td>4.6</td>\n",
       "      <td>1.14</td>\n",
       "      <td>2014-06-29</td>\n",
       "      <td>iPhone</td>\n",
       "      <td>20.0</td>\n",
       "      <td>True</td>\n",
       "      <td>80.0</td>\n",
       "      <td>2.36</td>\n",
       "      <td>4.9</td>\n",
       "    </tr>\n",
       "    <tr>\n",
       "      <th>4</th>\n",
       "      <td>Winterfell</td>\n",
       "      <td>14</td>\n",
       "      <td>2014-01-27</td>\n",
       "      <td>4.4</td>\n",
       "      <td>1.19</td>\n",
       "      <td>2014-03-15</td>\n",
       "      <td>Android</td>\n",
       "      <td>11.8</td>\n",
       "      <td>False</td>\n",
       "      <td>82.4</td>\n",
       "      <td>3.13</td>\n",
       "      <td>4.9</td>\n",
       "    </tr>\n",
       "  </tbody>\n",
       "</table>\n",
       "</div>"
      ],
      "text/plain": [
       "             city  trips_in_first_30_days signup_date  avg_rating_of_driver  \\\n",
       "0  King's Landing                       4  2014-01-25                   4.7   \n",
       "1         Astapor                       0  2014-01-29                   5.0   \n",
       "2         Astapor                       3  2014-01-06                   4.3   \n",
       "3  King's Landing                       9  2014-01-10                   4.6   \n",
       "4      Winterfell                      14  2014-01-27                   4.4   \n",
       "\n",
       "   avg_surge last_trip_date    phone  surge_pct  ultimate_black_user  \\\n",
       "0       1.10     2014-06-17   iPhone       15.4                 True   \n",
       "1       1.00     2014-05-05  Android        0.0                False   \n",
       "2       1.00     2014-01-07   iPhone        0.0                False   \n",
       "3       1.14     2014-06-29   iPhone       20.0                 True   \n",
       "4       1.19     2014-03-15  Android       11.8                False   \n",
       "\n",
       "   weekday_pct  avg_dist  avg_rating_by_driver  \n",
       "0         46.2      3.67                   5.0  \n",
       "1         50.0      8.26                   5.0  \n",
       "2        100.0      0.77                   5.0  \n",
       "3         80.0      2.36                   4.9  \n",
       "4         82.4      3.13                   4.9  "
      ]
     },
     "execution_count": 28,
     "metadata": {},
     "output_type": "execute_result"
    }
   ],
   "source": [
    "# convert to dataframe\n",
    "df = pd.DataFrame.from_dict(data, orient='columns')\n",
    "df.head()"
   ]
  },
  {
   "cell_type": "code",
   "execution_count": 29,
   "metadata": {},
   "outputs": [
    {
     "data": {
      "text/plain": [
       "Timestamp('2014-06-01 00:00:00')"
      ]
     },
     "execution_count": 29,
     "metadata": {},
     "output_type": "execute_result"
    }
   ],
   "source": [
    "# convert date time and calculate current date using Max function\n",
    "df['signup_date'] = pd.to_datetime(df['signup_date'])\n",
    "df['last_trip_date'] = pd.to_datetime(df['last_trip_date'])\n",
    "current_date = max(df['last_trip_date'])\n",
    "current_date - dt.timedelta(days=30)"
   ]
  },
  {
   "cell_type": "code",
   "execution_count": 30,
   "metadata": {},
   "outputs": [],
   "source": [
    "# identify active users\n",
    "import numpy as np\n",
    "df['active'] = np.where(df['last_trip_date'] > dt.datetime(2014, 6, 1), 1, 0)\n",
    "df_counts = df['active'].value_counts()\n",
    "\n",
    "## in multi-condition situation, use select:\n",
    "## conditions = [\n",
    "##    (df['phone'] == 'Iphone') & (df['ultimate_black_user'] == False),\n",
    "##    (df['phone'] == 'Windows')]\n",
    "## choices = ['white', 'blue']\n",
    "## df['color'] = np.select(conditions, choices, default='black')"
   ]
  },
  {
   "cell_type": "code",
   "execution_count": 31,
   "metadata": {},
   "outputs": [
    {
     "name": "stdout",
     "output_type": "stream",
     "text": [
      "0.3662\n"
     ]
    }
   ],
   "source": [
    "# thus retention rate is\n",
    "print(df_counts[1]/(df_counts[0]+df_counts[1]))"
   ]
  },
  {
   "cell_type": "markdown",
   "metadata": {},
   "source": [
    "Since we do not have a transactional table or a periodic snapshot table, we are unable to see how retention rate changed over time and so we do not know if 36.62% is a good retention rate."
   ]
  },
  {
   "cell_type": "code",
   "execution_count": 32,
   "metadata": {
    "scrolled": false
   },
   "outputs": [
    {
     "name": "stdout",
     "output_type": "stream",
     "text": [
      "<class 'pandas.core.frame.DataFrame'>\n",
      "RangeIndex: 50000 entries, 0 to 49999\n",
      "Data columns (total 13 columns):\n",
      "city                      50000 non-null object\n",
      "trips_in_first_30_days    50000 non-null int64\n",
      "signup_date               50000 non-null datetime64[ns]\n",
      "avg_rating_of_driver      41878 non-null float64\n",
      "avg_surge                 50000 non-null float64\n",
      "last_trip_date            50000 non-null datetime64[ns]\n",
      "phone                     49604 non-null object\n",
      "surge_pct                 50000 non-null float64\n",
      "ultimate_black_user       50000 non-null bool\n",
      "weekday_pct               50000 non-null float64\n",
      "avg_dist                  50000 non-null float64\n",
      "avg_rating_by_driver      49799 non-null float64\n",
      "active                    50000 non-null int32\n",
      "dtypes: bool(1), datetime64[ns](2), float64(6), int32(1), int64(1), object(2)\n",
      "memory usage: 4.4+ MB\n"
     ]
    }
   ],
   "source": [
    "df.info()"
   ]
  },
  {
   "cell_type": "code",
   "execution_count": 33,
   "metadata": {},
   "outputs": [],
   "source": [
    "# avg_rating_of_driver, avg_rating_by_driver contain missing data that can be filled with mean scores\n",
    "def sc_mean(var, dataframe):\n",
    "    dataframe[var].fillna(dataframe[var].mean(),inplace=True)\n",
    "\n",
    "sc_mean('avg_rating_by_driver',df)\n",
    "sc_mean('avg_rating_of_driver',df)"
   ]
  },
  {
   "cell_type": "code",
   "execution_count": 38,
   "metadata": {
    "scrolled": true
   },
   "outputs": [
    {
     "data": {
      "text/html": [
       "<div>\n",
       "<style scoped>\n",
       "    .dataframe tbody tr th:only-of-type {\n",
       "        vertical-align: middle;\n",
       "    }\n",
       "\n",
       "    .dataframe tbody tr th {\n",
       "        vertical-align: top;\n",
       "    }\n",
       "\n",
       "    .dataframe thead th {\n",
       "        text-align: right;\n",
       "    }\n",
       "</style>\n",
       "<table border=\"1\" class=\"dataframe\">\n",
       "  <thead>\n",
       "    <tr style=\"text-align: right;\">\n",
       "      <th></th>\n",
       "      <th>trips_in_first_30_days</th>\n",
       "      <th>avg_rating_of_driver</th>\n",
       "      <th>avg_surge</th>\n",
       "      <th>surge_pct</th>\n",
       "      <th>ultimate_black_user</th>\n",
       "      <th>weekday_pct</th>\n",
       "      <th>avg_dist</th>\n",
       "      <th>avg_rating_by_driver</th>\n",
       "      <th>active</th>\n",
       "    </tr>\n",
       "  </thead>\n",
       "  <tbody>\n",
       "    <tr>\n",
       "      <th>0</th>\n",
       "      <td>4</td>\n",
       "      <td>4.7</td>\n",
       "      <td>1.10</td>\n",
       "      <td>15.4</td>\n",
       "      <td>True</td>\n",
       "      <td>46.2</td>\n",
       "      <td>3.67</td>\n",
       "      <td>5.0</td>\n",
       "      <td>1</td>\n",
       "    </tr>\n",
       "    <tr>\n",
       "      <th>1</th>\n",
       "      <td>0</td>\n",
       "      <td>5.0</td>\n",
       "      <td>1.00</td>\n",
       "      <td>0.0</td>\n",
       "      <td>False</td>\n",
       "      <td>50.0</td>\n",
       "      <td>8.26</td>\n",
       "      <td>5.0</td>\n",
       "      <td>0</td>\n",
       "    </tr>\n",
       "    <tr>\n",
       "      <th>2</th>\n",
       "      <td>3</td>\n",
       "      <td>4.3</td>\n",
       "      <td>1.00</td>\n",
       "      <td>0.0</td>\n",
       "      <td>False</td>\n",
       "      <td>100.0</td>\n",
       "      <td>0.77</td>\n",
       "      <td>5.0</td>\n",
       "      <td>0</td>\n",
       "    </tr>\n",
       "    <tr>\n",
       "      <th>3</th>\n",
       "      <td>9</td>\n",
       "      <td>4.6</td>\n",
       "      <td>1.14</td>\n",
       "      <td>20.0</td>\n",
       "      <td>True</td>\n",
       "      <td>80.0</td>\n",
       "      <td>2.36</td>\n",
       "      <td>4.9</td>\n",
       "      <td>1</td>\n",
       "    </tr>\n",
       "    <tr>\n",
       "      <th>4</th>\n",
       "      <td>14</td>\n",
       "      <td>4.4</td>\n",
       "      <td>1.19</td>\n",
       "      <td>11.8</td>\n",
       "      <td>False</td>\n",
       "      <td>82.4</td>\n",
       "      <td>3.13</td>\n",
       "      <td>4.9</td>\n",
       "      <td>0</td>\n",
       "    </tr>\n",
       "  </tbody>\n",
       "</table>\n",
       "</div>"
      ],
      "text/plain": [
       "   trips_in_first_30_days  avg_rating_of_driver  avg_surge  surge_pct  \\\n",
       "0                       4                   4.7       1.10       15.4   \n",
       "1                       0                   5.0       1.00        0.0   \n",
       "2                       3                   4.3       1.00        0.0   \n",
       "3                       9                   4.6       1.14       20.0   \n",
       "4                      14                   4.4       1.19       11.8   \n",
       "\n",
       "   ultimate_black_user  weekday_pct  avg_dist  avg_rating_by_driver  active  \n",
       "0                 True         46.2      3.67                   5.0       1  \n",
       "1                False         50.0      8.26                   5.0       0  \n",
       "2                False        100.0      0.77                   5.0       0  \n",
       "3                 True         80.0      2.36                   4.9       1  \n",
       "4                False         82.4      3.13                   4.9       0  "
      ]
     },
     "execution_count": 38,
     "metadata": {},
     "output_type": "execute_result"
    }
   ],
   "source": [
    "# choose the features that can be fitted in ML model \n",
    "df = df[['trips_in_first_30_days', 'avg_rating_of_driver', 'avg_surge','surge_pct','ultimate_black_user',\n",
    "         'weekday_pct', 'avg_dist', 'avg_rating_by_driver', 'active']]\n",
    "df.head()"
   ]
  },
  {
   "cell_type": "code",
   "execution_count": 40,
   "metadata": {},
   "outputs": [],
   "source": [
    "# define dependent and independent variables\n",
    "x = df.drop(['active'], axis=1)\n",
    "y = df['active']"
   ]
  },
  {
   "cell_type": "code",
   "execution_count": 43,
   "metadata": {},
   "outputs": [],
   "source": [
    "# Store categorical column names\n",
    "categorical = x.nunique()[x.nunique() < 10].keys().tolist()\n",
    "\n",
    "# Store numerical column names\n",
    "numerical = [i for i in x.columns if i not in categorical]"
   ]
  },
  {
   "cell_type": "code",
   "execution_count": 44,
   "metadata": {},
   "outputs": [],
   "source": [
    "from sklearn.preprocessing import StandardScaler\n",
    "# Initialize StandardScaler instance\n",
    "scaler = StandardScaler()\n",
    "\n",
    "# Fit and transform the scaler on numerical columns\n",
    "scaled_numerical = scaler.fit_transform(x[numerical])\n",
    "\n",
    "# Build a DataFrame from scaled_numerical\n",
    "scaled_numerical = pd.DataFrame(scaled_numerical, columns=numerical)"
   ]
  },
  {
   "cell_type": "code",
   "execution_count": 50,
   "metadata": {},
   "outputs": [],
   "source": [
    "# merge the binary categorical frame with the numerical frame\n",
    "df_x = pd.DataFrame((df['ultimate_black_user'] == True ).astype(int))\n",
    "x = pd.concat([scaled_numerical, df_x], axis=1)"
   ]
  },
  {
   "cell_type": "code",
   "execution_count": 52,
   "metadata": {},
   "outputs": [
    {
     "data": {
      "text/html": [
       "<div>\n",
       "<style scoped>\n",
       "    .dataframe tbody tr th:only-of-type {\n",
       "        vertical-align: middle;\n",
       "    }\n",
       "\n",
       "    .dataframe tbody tr th {\n",
       "        vertical-align: top;\n",
       "    }\n",
       "\n",
       "    .dataframe thead th {\n",
       "        text-align: right;\n",
       "    }\n",
       "</style>\n",
       "<table border=\"1\" class=\"dataframe\">\n",
       "  <thead>\n",
       "    <tr style=\"text-align: right;\">\n",
       "      <th></th>\n",
       "      <th>trips_in_first_30_days</th>\n",
       "      <th>avg_rating_of_driver</th>\n",
       "      <th>avg_surge</th>\n",
       "      <th>surge_pct</th>\n",
       "      <th>weekday_pct</th>\n",
       "      <th>avg_dist</th>\n",
       "      <th>avg_rating_by_driver</th>\n",
       "      <th>ultimate_black_user</th>\n",
       "    </tr>\n",
       "  </thead>\n",
       "  <tbody>\n",
       "    <tr>\n",
       "      <th>0</th>\n",
       "      <td>0.453984</td>\n",
       "      <td>0.174240</td>\n",
       "      <td>0.113506</td>\n",
       "      <td>0.328202</td>\n",
       "      <td>-0.397131</td>\n",
       "      <td>-0.372650</td>\n",
       "      <td>0.497684</td>\n",
       "      <td>1</td>\n",
       "    </tr>\n",
       "    <tr>\n",
       "      <th>1</th>\n",
       "      <td>-0.600689</td>\n",
       "      <td>0.705241</td>\n",
       "      <td>-0.336268</td>\n",
       "      <td>-0.443394</td>\n",
       "      <td>-0.294653</td>\n",
       "      <td>0.431583</td>\n",
       "      <td>0.497684</td>\n",
       "      <td>0</td>\n",
       "    </tr>\n",
       "    <tr>\n",
       "      <th>2</th>\n",
       "      <td>0.190316</td>\n",
       "      <td>-0.533761</td>\n",
       "      <td>-0.336268</td>\n",
       "      <td>-0.443394</td>\n",
       "      <td>1.053741</td>\n",
       "      <td>-0.880771</td>\n",
       "      <td>0.497684</td>\n",
       "      <td>0</td>\n",
       "    </tr>\n",
       "    <tr>\n",
       "      <th>3</th>\n",
       "      <td>1.772325</td>\n",
       "      <td>-0.002760</td>\n",
       "      <td>0.293416</td>\n",
       "      <td>0.558679</td>\n",
       "      <td>0.514383</td>\n",
       "      <td>-0.602181</td>\n",
       "      <td>0.273342</td>\n",
       "      <td>1</td>\n",
       "    </tr>\n",
       "    <tr>\n",
       "      <th>4</th>\n",
       "      <td>3.090665</td>\n",
       "      <td>-0.356760</td>\n",
       "      <td>0.518303</td>\n",
       "      <td>0.147829</td>\n",
       "      <td>0.579106</td>\n",
       "      <td>-0.467266</td>\n",
       "      <td>0.273342</td>\n",
       "      <td>0</td>\n",
       "    </tr>\n",
       "  </tbody>\n",
       "</table>\n",
       "</div>"
      ],
      "text/plain": [
       "   trips_in_first_30_days  avg_rating_of_driver  avg_surge  surge_pct  \\\n",
       "0                0.453984              0.174240   0.113506   0.328202   \n",
       "1               -0.600689              0.705241  -0.336268  -0.443394   \n",
       "2                0.190316             -0.533761  -0.336268  -0.443394   \n",
       "3                1.772325             -0.002760   0.293416   0.558679   \n",
       "4                3.090665             -0.356760   0.518303   0.147829   \n",
       "\n",
       "   weekday_pct  avg_dist  avg_rating_by_driver  ultimate_black_user  \n",
       "0    -0.397131 -0.372650              0.497684                    1  \n",
       "1    -0.294653  0.431583              0.497684                    0  \n",
       "2     1.053741 -0.880771              0.497684                    0  \n",
       "3     0.514383 -0.602181              0.273342                    1  \n",
       "4     0.579106 -0.467266              0.273342                    0  "
      ]
     },
     "execution_count": 52,
     "metadata": {},
     "output_type": "execute_result"
    }
   ],
   "source": [
    "x.head()"
   ]
  },
  {
   "cell_type": "code",
   "execution_count": 123,
   "metadata": {},
   "outputs": [],
   "source": [
    "# train, test, split and then fit logistic regression\n",
    "from sklearn.model_selection import train_test_split\n",
    "from sklearn.linear_model import LogisticRegression\n",
    "\n",
    "train_X, test_X, train_Y, test_Y = train_test_split(x, y, test_size= .25)\n",
    "\n",
    "logreg = LogisticRegression(solver = 'lbfgs')\n",
    "logreg.fit(train_X, train_Y)\n",
    "pred_test_Y = logreg.predict(test_X)"
   ]
  },
  {
   "cell_type": "code",
   "execution_count": 124,
   "metadata": {},
   "outputs": [
    {
     "name": "stdout",
     "output_type": "stream",
     "text": [
      "0.67768\n"
     ]
    }
   ],
   "source": [
    "# print the accuracy score\n",
    "from sklearn.metrics import accuracy_score\n",
    "print(accuracy_score(test_Y, pred_test_Y))"
   ]
  },
  {
   "cell_type": "code",
   "execution_count": 125,
   "metadata": {},
   "outputs": [],
   "source": [
    "# hypertune the model\n",
    "C = [1, .5, .25, .1, .05, .025, .01, .005, .0025]\n",
    "l1_metrics = np.zeros((len(C), 5))\n",
    "l1_metrics[:,0] = C"
   ]
  },
  {
   "cell_type": "code",
   "execution_count": 126,
   "metadata": {},
   "outputs": [
    {
     "data": {
      "text/plain": [
       "array([[1.    , 0.    , 0.    , 0.    , 0.    ],\n",
       "       [0.5   , 0.    , 0.    , 0.    , 0.    ],\n",
       "       [0.25  , 0.    , 0.    , 0.    , 0.    ],\n",
       "       [0.1   , 0.    , 0.    , 0.    , 0.    ],\n",
       "       [0.05  , 0.    , 0.    , 0.    , 0.    ],\n",
       "       [0.025 , 0.    , 0.    , 0.    , 0.    ],\n",
       "       [0.01  , 0.    , 0.    , 0.    , 0.    ],\n",
       "       [0.005 , 0.    , 0.    , 0.    , 0.    ],\n",
       "       [0.0025, 0.    , 0.    , 0.    , 0.    ]])"
      ]
     },
     "execution_count": 126,
     "metadata": {},
     "output_type": "execute_result"
    }
   ],
   "source": [
    "l1_metrics"
   ]
  },
  {
   "cell_type": "code",
   "execution_count": 127,
   "metadata": {},
   "outputs": [
    {
     "name": "stdout",
     "output_type": "stream",
     "text": [
      "        C  Non-Zero Coeffs    Recall  Precision  Accuracy\n",
      "0  1.0000              8.0  0.272847   0.640000   0.67776\n",
      "1  0.5000              8.0  0.272847   0.640000   0.67776\n",
      "2  0.2500              8.0  0.272191   0.639445   0.67752\n",
      "3  0.1000              8.0  0.270442   0.638946   0.67712\n",
      "4  0.0500              8.0  0.268037   0.638874   0.67672\n",
      "5  0.0250              8.0  0.263664   0.639110   0.67608\n",
      "6  0.0100              8.0  0.253607   0.648407   0.67656\n",
      "7  0.0050              6.0  0.237866   0.669127   0.67808\n",
      "8  0.0025              3.0  0.206384   0.676218   0.67344\n"
     ]
    }
   ],
   "source": [
    "from sklearn.metrics import recall_score, precision_score\n",
    "# Model Tuning\n",
    "# Run a for loop over the range of C list length\n",
    "for index in range(0, len(C)):\n",
    "    # Initialize and fit Logistic Regression with the C candidate\n",
    "    logreg = LogisticRegression(penalty='l1', C=C[index], solver='liblinear')\n",
    "    logreg.fit(train_X, train_Y)\n",
    "    # Predict churn on the testing data\n",
    "    pred_test_Y = logreg.predict(test_X)\n",
    "    # Create non-zero count and recall score columns\n",
    "    l1_metrics[index,1] = np.count_nonzero(logreg.coef_)\n",
    "    l1_metrics[index,2] = recall_score(test_Y, pred_test_Y, pos_label=1)\n",
    "    l1_metrics[index,3] = precision_score(test_Y, pred_test_Y, pos_label=1)\n",
    "    l1_metrics[index,4] = accuracy_score(test_Y, pred_test_Y)\n",
    "\n",
    "# Name the columns and print the array as pandas DataFrame\n",
    "col_names = ['C','Non-Zero Coeffs','Recall','Precision','Accuracy']\n",
    "print(pd.DataFrame(l1_metrics, columns=col_names))"
   ]
  },
  {
   "cell_type": "code",
   "execution_count": 129,
   "metadata": {},
   "outputs": [
    {
     "name": "stdout",
     "output_type": "stream",
     "text": [
      "[[6574 1296]\n",
      " [3904  726]]\n"
     ]
    }
   ],
   "source": [
    "from sklearn.metrics import confusion_matrix\n",
    "print(confusion_matrix(y_test, y_pred))"
   ]
  },
  {
   "cell_type": "code",
   "execution_count": 130,
   "metadata": {},
   "outputs": [
    {
     "name": "stdout",
     "output_type": "stream",
     "text": [
      "                  Feature  Coefficient  Exp_Coefficient\n",
      "5                avg_dist    -0.115918         0.890548\n",
      "0  trips_in_first_30_days     0.426531         1.531934\n",
      "7     ultimate_black_user     0.565062         1.759557\n"
     ]
    }
   ],
   "source": [
    "# Combine feature names and coefficients into pandas DataFrame\n",
    "feature_names = pd.DataFrame(train_X.columns, columns = ['Feature'])\n",
    "log_coef = pd.DataFrame(np.transpose(logreg.coef_), columns = ['Coefficient'])\n",
    "coefficients = pd.concat([feature_names, log_coef], axis = 1)\n",
    "\n",
    "# Calculate exponent of the logistic regression coefficients\n",
    "coefficients['Exp_Coefficient'] = np.exp(coefficients['Coefficient'])\n",
    "\n",
    "# Remove coefficients that are equal to zero\n",
    "coefficients = coefficients[coefficients['Coefficient']!=0]\n",
    "\n",
    "# Print the values sorted by the exponent coefficient\n",
    "print(coefficients.sort_values(by=['Exp_Coefficient']))"
   ]
  },
  {
   "cell_type": "markdown",
   "metadata": {},
   "source": [
    "Based on the results, we can see that hypertuning the model does not yield significant accuracy increases within the model. The accuracy for this model is around 67-68%. Upon looking at the coefficients, we can see that feature \"avg_dist\", \"trips_in_first_30_days\",\"ultimate_black_user\" are the most important features within the model. Ultimate should consider increasing more ultimate_black_user and encourage people to take more trips in the first 30 days. The frequent usage of the service does contribute to the user experience."
   ]
  }
 ],
 "metadata": {
  "kernelspec": {
   "display_name": "Python 3",
   "language": "python",
   "name": "python3"
  },
  "language_info": {
   "codemirror_mode": {
    "name": "ipython",
    "version": 3
   },
   "file_extension": ".py",
   "mimetype": "text/x-python",
   "name": "python",
   "nbconvert_exporter": "python",
   "pygments_lexer": "ipython3",
   "version": "3.7.5"
  }
 },
 "nbformat": 4,
 "nbformat_minor": 2
}
